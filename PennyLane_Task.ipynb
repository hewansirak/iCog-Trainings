{
  "nbformat": 4,
  "nbformat_minor": 0,
  "metadata": {
    "colab": {
      "provenance": [],
      "include_colab_link": true
    },
    "kernelspec": {
      "name": "python3",
      "display_name": "Python 3"
    },
    "language_info": {
      "name": "python"
    }
  },
  "cells": [
    {
      "cell_type": "markdown",
      "metadata": {
        "id": "view-in-github",
        "colab_type": "text"
      },
      "source": [
        "<a href=\"https://colab.research.google.com/github/hewansirak/iCog-Trainings/blob/main/PennyLane_Task.ipynb\" target=\"_parent\"><img src=\"https://colab.research.google.com/assets/colab-badge.svg\" alt=\"Open In Colab\"/></a>"
      ]
    },
    {
      "cell_type": "code",
      "source": [
        "!pip install pennylane #Installing PennyLane #Check out: https://pennylane.ai/install for more options"
      ],
      "metadata": {
        "collapsed": true,
        "id": "T-XOpLVfZrG_",
        "outputId": "5c1aa632-191d-4950-da0d-c5c520bea75d",
        "colab": {
          "base_uri": "https://localhost:8080/"
        }
      },
      "execution_count": 1,
      "outputs": [
        {
          "output_type": "stream",
          "name": "stdout",
          "text": [
            "Collecting pennylane\n",
            "  Downloading PennyLane-0.41.1-py3-none-any.whl.metadata (10 kB)\n",
            "Requirement already satisfied: numpy in /usr/local/lib/python3.11/dist-packages (from pennylane) (2.0.2)\n",
            "Requirement already satisfied: scipy in /usr/local/lib/python3.11/dist-packages (from pennylane) (1.15.3)\n",
            "Requirement already satisfied: networkx in /usr/local/lib/python3.11/dist-packages (from pennylane) (3.5)\n",
            "Collecting rustworkx>=0.14.0 (from pennylane)\n",
            "  Downloading rustworkx-0.16.0-cp39-abi3-manylinux_2_17_x86_64.manylinux2014_x86_64.whl.metadata (10 kB)\n",
            "Requirement already satisfied: autograd in /usr/local/lib/python3.11/dist-packages (from pennylane) (1.8.0)\n",
            "Requirement already satisfied: tomlkit in /usr/local/lib/python3.11/dist-packages (from pennylane) (0.13.3)\n",
            "Collecting appdirs (from pennylane)\n",
            "  Downloading appdirs-1.4.4-py2.py3-none-any.whl.metadata (9.0 kB)\n",
            "Collecting autoray>=0.6.11 (from pennylane)\n",
            "  Downloading autoray-0.7.1-py3-none-any.whl.metadata (5.8 kB)\n",
            "Requirement already satisfied: cachetools in /usr/local/lib/python3.11/dist-packages (from pennylane) (5.5.2)\n",
            "Collecting pennylane-lightning>=0.41 (from pennylane)\n",
            "  Downloading pennylane_lightning-0.41.1-cp311-cp311-manylinux_2_28_x86_64.whl.metadata (12 kB)\n",
            "Requirement already satisfied: requests in /usr/local/lib/python3.11/dist-packages (from pennylane) (2.32.3)\n",
            "Requirement already satisfied: typing-extensions in /usr/local/lib/python3.11/dist-packages (from pennylane) (4.14.0)\n",
            "Requirement already satisfied: packaging in /usr/local/lib/python3.11/dist-packages (from pennylane) (24.2)\n",
            "Collecting diastatic-malt (from pennylane)\n",
            "  Downloading diastatic_malt-2.15.2-py3-none-any.whl.metadata (2.6 kB)\n",
            "Collecting scipy-openblas32>=0.3.26 (from pennylane-lightning>=0.41->pennylane)\n",
            "  Downloading scipy_openblas32-0.3.29.265.1-py3-none-manylinux2014_x86_64.manylinux_2_17_x86_64.whl.metadata (56 kB)\n",
            "\u001b[2K     \u001b[90m━━━━━━━━━━━━━━━━━━━━━━━━━━━━━━━━━━━━━━━━\u001b[0m \u001b[32m56.1/56.1 kB\u001b[0m \u001b[31m4.1 MB/s\u001b[0m eta \u001b[36m0:00:00\u001b[0m\n",
            "\u001b[?25hRequirement already satisfied: astunparse in /usr/local/lib/python3.11/dist-packages (from diastatic-malt->pennylane) (1.6.3)\n",
            "Requirement already satisfied: gast in /usr/local/lib/python3.11/dist-packages (from diastatic-malt->pennylane) (0.6.0)\n",
            "Requirement already satisfied: termcolor in /usr/local/lib/python3.11/dist-packages (from diastatic-malt->pennylane) (3.1.0)\n",
            "Requirement already satisfied: charset-normalizer<4,>=2 in /usr/local/lib/python3.11/dist-packages (from requests->pennylane) (3.4.2)\n",
            "Requirement already satisfied: idna<4,>=2.5 in /usr/local/lib/python3.11/dist-packages (from requests->pennylane) (3.10)\n",
            "Requirement already satisfied: urllib3<3,>=1.21.1 in /usr/local/lib/python3.11/dist-packages (from requests->pennylane) (2.4.0)\n",
            "Requirement already satisfied: certifi>=2017.4.17 in /usr/local/lib/python3.11/dist-packages (from requests->pennylane) (2025.6.15)\n",
            "Requirement already satisfied: wheel<1.0,>=0.23.0 in /usr/local/lib/python3.11/dist-packages (from astunparse->diastatic-malt->pennylane) (0.45.1)\n",
            "Requirement already satisfied: six<2.0,>=1.6.1 in /usr/local/lib/python3.11/dist-packages (from astunparse->diastatic-malt->pennylane) (1.17.0)\n",
            "Downloading PennyLane-0.41.1-py3-none-any.whl (2.3 MB)\n",
            "\u001b[2K   \u001b[90m━━━━━━━━━━━━━━━━━━━━━━━━━━━━━━━━━━━━━━━━\u001b[0m \u001b[32m2.3/2.3 MB\u001b[0m \u001b[31m84.6 MB/s\u001b[0m eta \u001b[36m0:00:00\u001b[0m\n",
            "\u001b[?25hDownloading autoray-0.7.1-py3-none-any.whl (930 kB)\n",
            "\u001b[2K   \u001b[90m━━━━━━━━━━━━━━━━━━━━━━━━━━━━━━━━━━━━━━━━\u001b[0m \u001b[32m930.8/930.8 kB\u001b[0m \u001b[31m62.0 MB/s\u001b[0m eta \u001b[36m0:00:00\u001b[0m\n",
            "\u001b[?25hDownloading pennylane_lightning-0.41.1-cp311-cp311-manylinux_2_28_x86_64.whl (2.5 MB)\n",
            "\u001b[2K   \u001b[90m━━━━━━━━━━━━━━━━━━━━━━━━━━━━━━━━━━━━━━━━\u001b[0m \u001b[32m2.5/2.5 MB\u001b[0m \u001b[31m62.1 MB/s\u001b[0m eta \u001b[36m0:00:00\u001b[0m\n",
            "\u001b[?25hDownloading rustworkx-0.16.0-cp39-abi3-manylinux_2_17_x86_64.manylinux2014_x86_64.whl (2.1 MB)\n",
            "\u001b[2K   \u001b[90m━━━━━━━━━━━━━━━━━━━━━━━━━━━━━━━━━━━━━━━━\u001b[0m \u001b[32m2.1/2.1 MB\u001b[0m \u001b[31m81.7 MB/s\u001b[0m eta \u001b[36m0:00:00\u001b[0m\n",
            "\u001b[?25hDownloading appdirs-1.4.4-py2.py3-none-any.whl (9.6 kB)\n",
            "Downloading diastatic_malt-2.15.2-py3-none-any.whl (167 kB)\n",
            "\u001b[2K   \u001b[90m━━━━━━━━━━━━━━━━━━━━━━━━━━━━━━━━━━━━━━━━\u001b[0m \u001b[32m167.9/167.9 kB\u001b[0m \u001b[31m15.8 MB/s\u001b[0m eta \u001b[36m0:00:00\u001b[0m\n",
            "\u001b[?25hDownloading scipy_openblas32-0.3.29.265.1-py3-none-manylinux2014_x86_64.manylinux_2_17_x86_64.whl (8.6 MB)\n",
            "\u001b[2K   \u001b[90m━━━━━━━━━━━━━━━━━━━━━━━━━━━━━━━━━━━━━━━━\u001b[0m \u001b[32m8.6/8.6 MB\u001b[0m \u001b[31m103.2 MB/s\u001b[0m eta \u001b[36m0:00:00\u001b[0m\n",
            "\u001b[?25hInstalling collected packages: appdirs, scipy-openblas32, rustworkx, autoray, diastatic-malt, pennylane-lightning, pennylane\n",
            "Successfully installed appdirs-1.4.4 autoray-0.7.1 diastatic-malt-2.15.2 pennylane-0.41.1 pennylane-lightning-0.41.1 rustworkx-0.16.0 scipy-openblas32-0.3.29.265.1\n"
          ]
        }
      ]
    },
    {
      "cell_type": "code",
      "source": [
        "import pennylane as qml\n",
        "import numpy as np\n",
        "import matplotlib.pyplot as plt"
      ],
      "metadata": {
        "id": "ikeBcevtZo3P"
      },
      "execution_count": 23,
      "outputs": []
    },
    {
      "cell_type": "markdown",
      "source": [
        "# Task 1: Create a Bell State Circuit\n",
        "Build a quantum circuit that generates the Bell state\n",
        "\n",
        "\n",
        "\n",
        "Use 2 qubits\n",
        "\n",
        "Use qml.probs() to display the probability distribution\n",
        "\n",
        "Bonus: visualize the statevector or show measurement samples"
      ],
      "metadata": {
        "id": "_-CbhXLSxnf2"
      }
    },
    {
      "cell_type": "code",
      "source": [
        "dev_probs = qml.device(\"default.qubit\", wires=2)"
      ],
      "metadata": {
        "id": "rQhaSthnZ4iQ"
      },
      "execution_count": 13,
      "outputs": []
    },
    {
      "cell_type": "code",
      "source": [
        "dev_samples = qml.device(\"default.qubit\", wires=2, shots=1000)"
      ],
      "metadata": {
        "id": "aPRRFW-Har1m"
      },
      "execution_count": 14,
      "outputs": []
    },
    {
      "cell_type": "code",
      "source": [
        "@qml.qnode(dev_probs)\n",
        "def bell_state_circuit_probs():\n",
        "    \"\"\"\n",
        "    Quantum circuit to generate a Bell state (|00> + |11>)/sqrt(2) for probabilities.\n",
        "    \"\"\"\n",
        "    qml.Hadamard(wires=0)\n",
        "    qml.CNOT(wires=[0, 1])\n",
        "    return qml.probs(wires=[0, 1])\n",
        "\n",
        "@qml.qnode(dev_probs)\n",
        "def bell_state_circuit_statevector():\n",
        "    \"\"\"\n",
        "    Quantum circuit to generate a Bell state for statevector inspection.\n",
        "    \"\"\"\n",
        "    qml.Hadamard(wires=0)\n",
        "    qml.CNOT(wires=[0, 1])\n",
        "    return qml.state()\n",
        "\n",
        "@qml.qnode(dev_samples)\n",
        "def bell_state_circuit_samples():\n",
        "    \"\"\"\n",
        "    Quantum circuit to generate a Bell state (|00> + |11>)/sqrt(2) for samples.\n",
        "    \"\"\"\n",
        "    qml.Hadamard(wires=0)\n",
        "    qml.CNOT(wires=[0, 1])\n",
        "    return qml.sample(wires=[0, 1])\n"
      ],
      "metadata": {
        "id": "XbwIEAjEx9bc"
      },
      "execution_count": 15,
      "outputs": []
    },
    {
      "cell_type": "code",
      "source": [
        "print(\"--- Probability Distribution ---\")\n",
        "probabilities = bell_state_circuit_probs()\n",
        "\n",
        "print(\"Probabilities of the Bell state:\")\n",
        "print(f\"|00>: {probabilities[0]:.4f}\")\n",
        "print(f\"|01>: {probabilities[1]:.4f}\")\n",
        "print(f\"|10>: {probabilities[2]:.4f}\")\n",
        "print(f\"|11>: {probabilities[3]:.4f}\")\n",
        "\n",
        "print(f\"\\nSum of probabilities: {np.sum(probabilities):.4f}\")"
      ],
      "metadata": {
        "id": "nTBE-vq3b9VL",
        "outputId": "8ef96c05-f364-455d-e939-d25442ad2b13",
        "colab": {
          "base_uri": "https://localhost:8080/"
        }
      },
      "execution_count": 16,
      "outputs": [
        {
          "output_type": "stream",
          "name": "stdout",
          "text": [
            "--- Probability Distribution ---\n",
            "Probabilities of the Bell state:\n",
            "|00>: 0.5000\n",
            "|01>: 0.0000\n",
            "|10>: 0.0000\n",
            "|11>: 0.5000\n",
            "\n",
            "Sum of probabilities: 1.0000\n"
          ]
        }
      ]
    },
    {
      "cell_type": "code",
      "source": [
        "# 2. Statevector Visualization\n",
        "print(\"\\n--- Statevector Visualization ---\")\n",
        "state_vector = bell_state_circuit_statevector()\n",
        "print(\"Quantum State Vector:\")\n",
        "print(state_vector)\n",
        "\n",
        "# Interpret the state vector to show magnitudes squared, which correspond to probabilities\n",
        "print(\"\\nMagnitude squared of each component (should match probabilities):\")\n",
        "# For a 2-qubit system, the basis states are |00>, |01>, |10>, |11>\n",
        "print(f\"|00> component squared: {np.abs(state_vector[0])**2:.4f}\")\n",
        "print(f\"|01> component squared: {np.abs(state_vector[1])**2:.4f}\")\n",
        "print(f\"|10> component squared: {np.abs(state_vector[2])**2:.4f}\")\n",
        "print(f\"|11> component squared: {np.abs(state_vector[3])**2:.4f}\")"
      ],
      "metadata": {
        "id": "yMa4al84bxrw",
        "outputId": "5fce6e19-937c-43cc-9b74-d55ec23bb8ee",
        "colab": {
          "base_uri": "https://localhost:8080/"
        }
      },
      "execution_count": 17,
      "outputs": [
        {
          "output_type": "stream",
          "name": "stdout",
          "text": [
            "\n",
            "--- Statevector Visualization ---\n",
            "Quantum State Vector:\n",
            "[0.70710678+0.j 0.        +0.j 0.        +0.j 0.70710678+0.j]\n",
            "\n",
            "Magnitude squared of each component (should match probabilities):\n",
            "|00> component squared: 0.5000\n",
            "|01> component squared: 0.0000\n",
            "|10> component squared: 0.0000\n",
            "|11> component squared: 0.5000\n"
          ]
        }
      ]
    },
    {
      "cell_type": "code",
      "source": [
        "print(\"\\n--- Measurement Samples ---\")\n",
        "samples = bell_state_circuit_samples()\n",
        "\n",
        "sample_counts = {\n",
        "    \"00\": 0,\n",
        "    \"01\": 0,\n",
        "    \"10\": 0,\n",
        "    \"11\": 0,\n",
        "}\n",
        "\n",
        "num_shots = 1000\n",
        "\n",
        "for sample_pair in samples:\n",
        "    state_key = \"\".join(str(bit) for bit in sample_pair)\n",
        "    if state_key in sample_counts:\n",
        "        sample_counts[state_key] += 1\n",
        "    else:\n",
        "        print(f\"Unexpected state observed: {state_key}\")\n",
        "\n",
        "print(f\"Measurement samples from {num_shots} shots:\")\n",
        "print(\"State | Counts | Observed Probability\")\n",
        "print(\"------|--------|---------------------\")\n",
        "for state, count in sample_counts.items():\n",
        "    observed_prob = count / num_shots\n",
        "    print(f\" {state}  | {count:<6} | {observed_prob:.4f}\")\n"
      ],
      "metadata": {
        "id": "mg0nlzqXcCKJ",
        "outputId": "5b974e6d-371a-4b55-9f58-895d4a2e0b75",
        "colab": {
          "base_uri": "https://localhost:8080/"
        }
      },
      "execution_count": 21,
      "outputs": [
        {
          "output_type": "stream",
          "name": "stdout",
          "text": [
            "\n",
            "--- Measurement Samples ---\n",
            "Measurement samples from 1000 shots:\n",
            "State | Counts | Observed Probability\n",
            "------|--------|---------------------\n",
            " 00  | 476    | 0.4760\n",
            " 01  | 0      | 0.0000\n",
            " 10  | 0      | 0.0000\n",
            " 11  | 524    | 0.5240\n"
          ]
        }
      ]
    },
    {
      "cell_type": "code",
      "source": [
        "fig, ax = qml.draw_mpl(bell_state_circuit_probs, decimals=2, style='pennylane')()\n",
        "plt.show()"
      ],
      "metadata": {
        "id": "z-_YdfZ8eHEC",
        "outputId": "fc4ba2b6-303e-43a5-cd99-7ef4970c5de1",
        "colab": {
          "base_uri": "https://localhost:8080/",
          "height": 337
        }
      },
      "execution_count": 24,
      "outputs": [
        {
          "output_type": "display_data",
          "data": {
            "text/plain": [
              "<Figure size 500x300 with 1 Axes>"
            ],
            "image/png": "[encoded data removed]"
          },
          "metadata": {}
        }
      ]
    },
    {
      "cell_type": "markdown",
      "source": [
        "# Task 2: Build a GHZ State for 3 Qubits\n",
        "Construct a circuit that prepares a 3-qubit GHZ state:\n",
        "\n",
        "Use Hadamard and CNOT gates\n",
        "\n",
        "Measure using qml.probs(wires=[0, 1, 2])\n",
        "\n",
        "Optional: extend to 4 qubits"
      ],
      "metadata": {
        "id": "oRPev3qux95s"
      }
    },
    {
      "cell_type": "code",
      "source": [],
      "metadata": {
        "id": "qDvLzhymyBOk"
      },
      "execution_count": 16,
      "outputs": []
    },
    {
      "cell_type": "markdown",
      "source": [
        "# Task 3: Rotation + Measurement Circuit\n",
        "Design a single-qubit rotation circuit using RX, RY, or RZ gates.\n",
        "\n",
        "Make the rotation angle a variable input\n",
        "\n",
        "Return the expectation value of PauliZ\n",
        "\n",
        "Plot how the output changes as you vary the input angle\n",
        "\n"
      ],
      "metadata": {
        "id": "Khx7R9FlyBpZ"
      }
    },
    {
      "cell_type": "code",
      "source": [],
      "metadata": {
        "id": "77d0DxuiyLz9"
      },
      "execution_count": null,
      "outputs": []
    },
    {
      "cell_type": "markdown",
      "source": [
        "## Task 4: Simple Variational Optimization\n",
        "Create a cost function that depends on a gate parameter, and optimize it using PennyLane’s gradient descent optimizer.\n",
        "\n",
        "Use a rotation gate like RX, and minimize expval(PauliZ)\n",
        "\n",
        "Log or print cost at each step\n",
        "\n",
        "Output the optimal parameter found\n",
        "\n",
        "plot the cost function curve"
      ],
      "metadata": {
        "id": "Gu2Rc1JKyOC1"
      }
    },
    {
      "cell_type": "code",
      "source": [],
      "metadata": {
        "id": "35mGDuZAyfCG"
      },
      "execution_count": null,
      "outputs": []
    },
    {
      "cell_type": "markdown",
      "source": [
        "# Task 5: Measurement Comparison\n",
        "Build a 1- or 2-qubit circuit and compare results from:\n",
        "\n",
        "qml.probs()\n",
        "\n",
        "qml.sample()\n",
        "\n",
        "qml.expval()\n",
        "\n",
        "Explain how they differ in output and when you'd use each.\n",
        "\n",
        "Discuss why probs() is deterministic but sample() is random."
      ],
      "metadata": {
        "id": "SExpNhpZyfht"
      }
    },
    {
      "cell_type": "code",
      "source": [],
      "metadata": {
        "id": "e6U70D06zANV"
      },
      "execution_count": null,
      "outputs": []
    }
  ]
}