{
  "nbformat": 4,
  "nbformat_minor": 0,
  "metadata": {
    "colab": {
      "provenance": [],
      "include_colab_link": true
    },
    "kernelspec": {
      "name": "python3",
      "display_name": "Python 3"
    },
    "language_info": {
      "name": "python"
    }
  },
  "cells": [
    {
      "cell_type": "markdown",
      "metadata": {
        "id": "view-in-github",
        "colab_type": "text"
      },
      "source": [
        "<a href=\"https://colab.research.google.com/github/hewansirak/iCog-Trainings/blob/main/PennyLane_Task.ipynb\" target=\"_parent\"><img src=\"https://colab.research.google.com/assets/colab-badge.svg\" alt=\"Open In Colab\"/></a>"
      ]
    },
    {
      "cell_type": "code",
      "source": [
        "!pip install streamlit"
      ],
      "metadata": {
        "collapsed": true,
        "id": "phVBBH0MOvDx",
        "outputId": "c6c61063-a90d-439e-b57e-5162abd0a07e",
        "colab": {
          "base_uri": "https://localhost:8080/"
        }
      },
      "execution_count": 21,
      "outputs": [
        {
          "output_type": "stream",
          "name": "stdout",
          "text": [
            "Collecting streamlit\n",
            "  Downloading streamlit-1.46.0-py3-none-any.whl.metadata (9.0 kB)\n",
            "Requirement already satisfied: altair<6,>=4.0 in /usr/local/lib/python3.11/dist-packages (from streamlit) (5.5.0)\n",
            "Requirement already satisfied: blinker<2,>=1.5.0 in /usr/local/lib/python3.11/dist-packages (from streamlit) (1.9.0)\n",
            "Requirement already satisfied: cachetools<7,>=4.0 in /usr/local/lib/python3.11/dist-packages (from streamlit) (5.5.2)\n",
            "Requirement already satisfied: click<9,>=7.0 in /usr/local/lib/python3.11/dist-packages (from streamlit) (8.2.1)\n",
            "Requirement already satisfied: numpy<3,>=1.23 in /usr/local/lib/python3.11/dist-packages (from streamlit) (2.0.2)\n",
            "Requirement already satisfied: packaging<26,>=20 in /usr/local/lib/python3.11/dist-packages (from streamlit) (24.2)\n",
            "Requirement already satisfied: pandas<3,>=1.4.0 in /usr/local/lib/python3.11/dist-packages (from streamlit) (2.2.2)\n",
            "Requirement already satisfied: pillow<12,>=7.1.0 in /usr/local/lib/python3.11/dist-packages (from streamlit) (11.2.1)\n",
            "Requirement already satisfied: protobuf<7,>=3.20 in /usr/local/lib/python3.11/dist-packages (from streamlit) (5.29.5)\n",
            "Requirement already satisfied: pyarrow>=7.0 in /usr/local/lib/python3.11/dist-packages (from streamlit) (18.1.0)\n",
            "Requirement already satisfied: requests<3,>=2.27 in /usr/local/lib/python3.11/dist-packages (from streamlit) (2.32.3)\n",
            "Requirement already satisfied: tenacity<10,>=8.1.0 in /usr/local/lib/python3.11/dist-packages (from streamlit) (8.5.0)\n",
            "Requirement already satisfied: toml<2,>=0.10.1 in /usr/local/lib/python3.11/dist-packages (from streamlit) (0.10.2)\n",
            "Requirement already satisfied: typing-extensions<5,>=4.4.0 in /usr/local/lib/python3.11/dist-packages (from streamlit) (4.14.0)\n",
            "Collecting watchdog<7,>=2.1.5 (from streamlit)\n",
            "  Downloading watchdog-6.0.0-py3-none-manylinux2014_x86_64.whl.metadata (44 kB)\n",
            "\u001b[2K     \u001b[90m━━━━━━━━━━━━━━━━━━━━━━━━━━━━━━━━━━━━━━━━\u001b[0m \u001b[32m44.3/44.3 kB\u001b[0m \u001b[31m2.0 MB/s\u001b[0m eta \u001b[36m0:00:00\u001b[0m\n",
            "\u001b[?25hRequirement already satisfied: gitpython!=3.1.19,<4,>=3.0.7 in /usr/local/lib/python3.11/dist-packages (from streamlit) (3.1.44)\n",
            "Collecting pydeck<1,>=0.8.0b4 (from streamlit)\n",
            "  Downloading pydeck-0.9.1-py2.py3-none-any.whl.metadata (4.1 kB)\n",
            "Requirement already satisfied: tornado!=6.5.0,<7,>=6.0.3 in /usr/local/lib/python3.11/dist-packages (from streamlit) (6.4.2)\n",
            "Requirement already satisfied: jinja2 in /usr/local/lib/python3.11/dist-packages (from altair<6,>=4.0->streamlit) (3.1.6)\n",
            "Requirement already satisfied: jsonschema>=3.0 in /usr/local/lib/python3.11/dist-packages (from altair<6,>=4.0->streamlit) (4.24.0)\n",
            "Requirement already satisfied: narwhals>=1.14.2 in /usr/local/lib/python3.11/dist-packages (from altair<6,>=4.0->streamlit) (1.44.0)\n",
            "Requirement already satisfied: gitdb<5,>=4.0.1 in /usr/local/lib/python3.11/dist-packages (from gitpython!=3.1.19,<4,>=3.0.7->streamlit) (4.0.12)\n",
            "Requirement already satisfied: python-dateutil>=2.8.2 in /usr/local/lib/python3.11/dist-packages (from pandas<3,>=1.4.0->streamlit) (2.9.0.post0)\n",
            "Requirement already satisfied: pytz>=2020.1 in /usr/local/lib/python3.11/dist-packages (from pandas<3,>=1.4.0->streamlit) (2025.2)\n",
            "Requirement already satisfied: tzdata>=2022.7 in /usr/local/lib/python3.11/dist-packages (from pandas<3,>=1.4.0->streamlit) (2025.2)\n",
            "Requirement already satisfied: charset-normalizer<4,>=2 in /usr/local/lib/python3.11/dist-packages (from requests<3,>=2.27->streamlit) (3.4.2)\n",
            "Requirement already satisfied: idna<4,>=2.5 in /usr/local/lib/python3.11/dist-packages (from requests<3,>=2.27->streamlit) (3.10)\n",
            "Requirement already satisfied: urllib3<3,>=1.21.1 in /usr/local/lib/python3.11/dist-packages (from requests<3,>=2.27->streamlit) (2.4.0)\n",
            "Requirement already satisfied: certifi>=2017.4.17 in /usr/local/lib/python3.11/dist-packages (from requests<3,>=2.27->streamlit) (2025.6.15)\n",
            "Requirement already satisfied: smmap<6,>=3.0.1 in /usr/local/lib/python3.11/dist-packages (from gitdb<5,>=4.0.1->gitpython!=3.1.19,<4,>=3.0.7->streamlit) (5.0.2)\n",
            "Requirement already satisfied: MarkupSafe>=2.0 in /usr/local/lib/python3.11/dist-packages (from jinja2->altair<6,>=4.0->streamlit) (3.0.2)\n",
            "Requirement already satisfied: attrs>=22.2.0 in /usr/local/lib/python3.11/dist-packages (from jsonschema>=3.0->altair<6,>=4.0->streamlit) (25.3.0)\n",
            "Requirement already satisfied: jsonschema-specifications>=2023.03.6 in /usr/local/lib/python3.11/dist-packages (from jsonschema>=3.0->altair<6,>=4.0->streamlit) (2025.4.1)\n",
            "Requirement already satisfied: referencing>=0.28.4 in /usr/local/lib/python3.11/dist-packages (from jsonschema>=3.0->altair<6,>=4.0->streamlit) (0.36.2)\n",
            "Requirement already satisfied: rpds-py>=0.7.1 in /usr/local/lib/python3.11/dist-packages (from jsonschema>=3.0->altair<6,>=4.0->streamlit) (0.25.1)\n",
            "Requirement already satisfied: six>=1.5 in /usr/local/lib/python3.11/dist-packages (from python-dateutil>=2.8.2->pandas<3,>=1.4.0->streamlit) (1.17.0)\n",
            "Downloading streamlit-1.46.0-py3-none-any.whl (10.1 MB)\n",
            "\u001b[2K   \u001b[90m━━━━━━━━━━━━━━━━━━━━━━━━━━━━━━━━━━━━━━━━\u001b[0m \u001b[32m10.1/10.1 MB\u001b[0m \u001b[31m68.9 MB/s\u001b[0m eta \u001b[36m0:00:00\u001b[0m\n",
            "\u001b[?25hDownloading pydeck-0.9.1-py2.py3-none-any.whl (6.9 MB)\n",
            "\u001b[2K   \u001b[90m━━━━━━━━━━━━━━━━━━━━━━━━━━━━━━━━━━━━━━━━\u001b[0m \u001b[32m6.9/6.9 MB\u001b[0m \u001b[31m94.4 MB/s\u001b[0m eta \u001b[36m0:00:00\u001b[0m\n",
            "\u001b[?25hDownloading watchdog-6.0.0-py3-none-manylinux2014_x86_64.whl (79 kB)\n",
            "\u001b[2K   \u001b[90m━━━━━━━━━━━━━━━━━━━━━━━━━━━━━━━━━━━━━━━━\u001b[0m \u001b[32m79.1/79.1 kB\u001b[0m \u001b[31m5.8 MB/s\u001b[0m eta \u001b[36m0:00:00\u001b[0m\n",
            "\u001b[?25hInstalling collected packages: watchdog, pydeck, streamlit\n",
            "Successfully installed pydeck-0.9.1 streamlit-1.46.0 watchdog-6.0.0\n"
          ]
        }
      ]
    },
    {
      "cell_type": "code",
      "source": [
        "!pip install pennylane #Installing PennyLane #Check out: https://pennylane.ai/install for more options"
      ],
      "metadata": {
        "collapsed": true,
        "id": "T-XOpLVfZrG_",
        "outputId": "37e82b47-ed82-4477-a6f6-5728451d2744",
        "colab": {
          "base_uri": "https://localhost:8080/"
        }
      },
      "execution_count": 3,
      "outputs": [
        {
          "output_type": "stream",
          "name": "stdout",
          "text": [
            "Collecting pennylane\n",
            "  Downloading PennyLane-0.41.1-py3-none-any.whl.metadata (10 kB)\n",
            "Requirement already satisfied: numpy in /usr/local/lib/python3.11/dist-packages (from pennylane) (2.0.2)\n",
            "Requirement already satisfied: scipy in /usr/local/lib/python3.11/dist-packages (from pennylane) (1.15.3)\n",
            "Requirement already satisfied: networkx in /usr/local/lib/python3.11/dist-packages (from pennylane) (3.5)\n",
            "Collecting rustworkx>=0.14.0 (from pennylane)\n",
            "  Downloading rustworkx-0.16.0-cp39-abi3-manylinux_2_17_x86_64.manylinux2014_x86_64.whl.metadata (10 kB)\n",
            "Requirement already satisfied: autograd in /usr/local/lib/python3.11/dist-packages (from pennylane) (1.8.0)\n",
            "Requirement already satisfied: tomlkit in /usr/local/lib/python3.11/dist-packages (from pennylane) (0.13.3)\n",
            "Collecting appdirs (from pennylane)\n",
            "  Downloading appdirs-1.4.4-py2.py3-none-any.whl.metadata (9.0 kB)\n",
            "Collecting autoray>=0.6.11 (from pennylane)\n",
            "  Downloading autoray-0.7.1-py3-none-any.whl.metadata (5.8 kB)\n",
            "Requirement already satisfied: cachetools in /usr/local/lib/python3.11/dist-packages (from pennylane) (5.5.2)\n",
            "Collecting pennylane-lightning>=0.41 (from pennylane)\n",
            "  Downloading pennylane_lightning-0.41.1-cp311-cp311-manylinux_2_28_x86_64.whl.metadata (12 kB)\n",
            "Requirement already satisfied: requests in /usr/local/lib/python3.11/dist-packages (from pennylane) (2.32.3)\n",
            "Requirement already satisfied: typing-extensions in /usr/local/lib/python3.11/dist-packages (from pennylane) (4.14.0)\n",
            "Requirement already satisfied: packaging in /usr/local/lib/python3.11/dist-packages (from pennylane) (24.2)\n",
            "Collecting diastatic-malt (from pennylane)\n",
            "  Downloading diastatic_malt-2.15.2-py3-none-any.whl.metadata (2.6 kB)\n",
            "Collecting scipy-openblas32>=0.3.26 (from pennylane-lightning>=0.41->pennylane)\n",
            "  Downloading scipy_openblas32-0.3.29.265.1-py3-none-manylinux2014_x86_64.manylinux_2_17_x86_64.whl.metadata (56 kB)\n",
            "\u001b[2K     \u001b[90m━━━━━━━━━━━━━━━━━━━━━━━━━━━━━━━━━━━━━━━━\u001b[0m \u001b[32m56.1/56.1 kB\u001b[0m \u001b[31m2.9 MB/s\u001b[0m eta \u001b[36m0:00:00\u001b[0m\n",
            "\u001b[?25hRequirement already satisfied: astunparse in /usr/local/lib/python3.11/dist-packages (from diastatic-malt->pennylane) (1.6.3)\n",
            "Requirement already satisfied: gast in /usr/local/lib/python3.11/dist-packages (from diastatic-malt->pennylane) (0.6.0)\n",
            "Requirement already satisfied: termcolor in /usr/local/lib/python3.11/dist-packages (from diastatic-malt->pennylane) (3.1.0)\n",
            "Requirement already satisfied: charset-normalizer<4,>=2 in /usr/local/lib/python3.11/dist-packages (from requests->pennylane) (3.4.2)\n",
            "Requirement already satisfied: idna<4,>=2.5 in /usr/local/lib/python3.11/dist-packages (from requests->pennylane) (3.10)\n",
            "Requirement already satisfied: urllib3<3,>=1.21.1 in /usr/local/lib/python3.11/dist-packages (from requests->pennylane) (2.4.0)\n",
            "Requirement already satisfied: certifi>=2017.4.17 in /usr/local/lib/python3.11/dist-packages (from requests->pennylane) (2025.6.15)\n",
            "Requirement already satisfied: wheel<1.0,>=0.23.0 in /usr/local/lib/python3.11/dist-packages (from astunparse->diastatic-malt->pennylane) (0.45.1)\n",
            "Requirement already satisfied: six<2.0,>=1.6.1 in /usr/local/lib/python3.11/dist-packages (from astunparse->diastatic-malt->pennylane) (1.17.0)\n",
            "Downloading PennyLane-0.41.1-py3-none-any.whl (2.3 MB)\n",
            "\u001b[2K   \u001b[90m━━━━━━━━━━━━━━━━━━━━━━━━━━━━━━━━━━━━━━━━\u001b[0m \u001b[32m2.3/2.3 MB\u001b[0m \u001b[31m31.4 MB/s\u001b[0m eta \u001b[36m0:00:00\u001b[0m\n",
            "\u001b[?25hDownloading autoray-0.7.1-py3-none-any.whl (930 kB)\n",
            "\u001b[2K   \u001b[90m━━━━━━━━━━━━━━━━━━━━━━━━━━━━━━━━━━━━━━━━\u001b[0m \u001b[32m930.8/930.8 kB\u001b[0m \u001b[31m44.2 MB/s\u001b[0m eta \u001b[36m0:00:00\u001b[0m\n",
            "\u001b[?25hDownloading pennylane_lightning-0.41.1-cp311-cp311-manylinux_2_28_x86_64.whl (2.5 MB)\n",
            "\u001b[2K   \u001b[90m━━━━━━━━━━━━━━━━━━━━━━━━━━━━━━━━━━━━━━━━\u001b[0m \u001b[32m2.5/2.5 MB\u001b[0m \u001b[31m78.2 MB/s\u001b[0m eta \u001b[36m0:00:00\u001b[0m\n",
            "\u001b[?25hDownloading rustworkx-0.16.0-cp39-abi3-manylinux_2_17_x86_64.manylinux2014_x86_64.whl (2.1 MB)\n",
            "\u001b[2K   \u001b[90m━━━━━━━━━━━━━━━━━━━━━━━━━━━━━━━━━━━━━━━━\u001b[0m \u001b[32m2.1/2.1 MB\u001b[0m \u001b[31m72.8 MB/s\u001b[0m eta \u001b[36m0:00:00\u001b[0m\n",
            "\u001b[?25hDownloading appdirs-1.4.4-py2.py3-none-any.whl (9.6 kB)\n",
            "Downloading diastatic_malt-2.15.2-py3-none-any.whl (167 kB)\n",
            "\u001b[2K   \u001b[90m━━━━━━━━━━━━━━━━━━━━━━━━━━━━━━━━━━━━━━━━\u001b[0m \u001b[32m167.9/167.9 kB\u001b[0m \u001b[31m13.8 MB/s\u001b[0m eta \u001b[36m0:00:00\u001b[0m\n",
            "\u001b[?25hDownloading scipy_openblas32-0.3.29.265.1-py3-none-manylinux2014_x86_64.manylinux_2_17_x86_64.whl (8.6 MB)\n",
            "\u001b[2K   \u001b[90m━━━━━━━━━━━━━━━━━━━━━━━━━━━━━━━━━━━━━━━━\u001b[0m \u001b[32m8.6/8.6 MB\u001b[0m \u001b[31m99.5 MB/s\u001b[0m eta \u001b[36m0:00:00\u001b[0m\n",
            "\u001b[?25hInstalling collected packages: appdirs, scipy-openblas32, rustworkx, autoray, diastatic-malt, pennylane-lightning, pennylane\n",
            "Successfully installed appdirs-1.4.4 autoray-0.7.1 diastatic-malt-2.15.2 pennylane-0.41.1 pennylane-lightning-0.41.1 rustworkx-0.16.0 scipy-openblas32-0.3.29.265.1\n"
          ]
        }
      ]
    },
    {
      "cell_type": "code",
      "source": [
        "import pennylane as qml\n",
        "import numpy as np\n",
        "import matplotlib.pyplot as plt"
      ],
      "metadata": {
        "id": "ikeBcevtZo3P",
        "colab": {
          "base_uri": "https://localhost:8080/"
        },
        "outputId": "556cb3ea-122d-470a-e42d-6da3eb6f6078"
      },
      "execution_count": 4,
      "outputs": [
        {
          "output_type": "stream",
          "name": "stderr",
          "text": [
            "/usr/local/lib/python3.11/dist-packages/pennylane/capture/capture_operators.py:33: RuntimeWarning: PennyLane is not yet compatible with JAX versions > 0.4.28. You have version 0.5.2 installed. Please downgrade JAX to <=0.4.28 to avoid runtime errors.\n",
            "  warnings.warn(\n"
          ]
        }
      ]
    },
    {
      "cell_type": "markdown",
      "source": [
        "# Task 1: Create a Bell State Circuit\n",
        "Build a quantum circuit that generates the Bell state\n",
        "\n",
        "\n",
        "\n",
        "Use 2 qubits\n",
        "\n",
        "Use qml.probs() to display the probability distribution\n",
        "\n",
        "Bonus: visualize the statevector or show measurement samples"
      ],
      "metadata": {
        "id": "_-CbhXLSxnf2"
      }
    },
    {
      "cell_type": "code",
      "source": [
        "dev_probs = qml.device(\"default.qubit\", wires=2)"
      ],
      "metadata": {
        "id": "rQhaSthnZ4iQ"
      },
      "execution_count": null,
      "outputs": []
    },
    {
      "cell_type": "code",
      "source": [
        "dev_samples = qml.device(\"default.qubit\", wires=2, shots=1000)"
      ],
      "metadata": {
        "id": "aPRRFW-Har1m"
      },
      "execution_count": null,
      "outputs": []
    },
    {
      "cell_type": "code",
      "source": [
        "@qml.qnode(dev_probs)\n",
        "def bell_state_circuit_probs():\n",
        "    \"\"\"\n",
        "    Quantum circuit to generate a Bell state (|00> + |11>)/sqrt(2) for probabilities.\n",
        "    \"\"\"\n",
        "    qml.Hadamard(wires=0)\n",
        "    qml.CNOT(wires=[0, 1])\n",
        "    return qml.probs(wires=[0, 1])\n",
        "\n",
        "@qml.qnode(dev_probs)\n",
        "def bell_state_circuit_statevector():\n",
        "    \"\"\"\n",
        "    Quantum circuit to generate a Bell state for statevector inspection.\n",
        "    \"\"\"\n",
        "    qml.Hadamard(wires=0)\n",
        "    qml.CNOT(wires=[0, 1])\n",
        "    return qml.state()\n",
        "\n",
        "@qml.qnode(dev_samples)\n",
        "def bell_state_circuit_samples():\n",
        "    \"\"\"\n",
        "    Quantum circuit to generate a Bell state (|00> + |11>)/sqrt(2) for samples.\n",
        "    \"\"\"\n",
        "    qml.Hadamard(wires=0)\n",
        "    qml.CNOT(wires=[0, 1])\n",
        "    return qml.sample(wires=[0, 1])\n"
      ],
      "metadata": {
        "id": "XbwIEAjEx9bc"
      },
      "execution_count": null,
      "outputs": []
    },
    {
      "cell_type": "code",
      "source": [
        "print(\"--- Probability Distribution ---\")\n",
        "probabilities = bell_state_circuit_probs()\n",
        "\n",
        "print(\"Probabilities of the Bell state:\")\n",
        "print(f\"|00>: {probabilities[0]:.4f}\")\n",
        "print(f\"|01>: {probabilities[1]:.4f}\")\n",
        "print(f\"|10>: {probabilities[2]:.4f}\")\n",
        "print(f\"|11>: {probabilities[3]:.4f}\")\n",
        "\n",
        "print(f\"\\nSum of probabilities: {np.sum(probabilities):.4f}\")"
      ],
      "metadata": {
        "id": "nTBE-vq3b9VL",
        "outputId": "8ef96c05-f364-455d-e939-d25442ad2b13",
        "colab": {
          "base_uri": "https://localhost:8080/"
        }
      },
      "execution_count": null,
      "outputs": [
        {
          "output_type": "stream",
          "name": "stdout",
          "text": [
            "--- Probability Distribution ---\n",
            "Probabilities of the Bell state:\n",
            "|00>: 0.5000\n",
            "|01>: 0.0000\n",
            "|10>: 0.0000\n",
            "|11>: 0.5000\n",
            "\n",
            "Sum of probabilities: 1.0000\n"
          ]
        }
      ]
    },
    {
      "cell_type": "code",
      "source": [
        "# 2. Statevector Visualization\n",
        "print(\"\\n--- Statevector Visualization ---\")\n",
        "state_vector = bell_state_circuit_statevector()\n",
        "print(\"Quantum State Vector:\")\n",
        "print(state_vector)\n",
        "\n",
        "# Interpret the state vector to show magnitudes squared, which correspond to probabilities\n",
        "print(\"\\nMagnitude squared of each component (should match probabilities):\")\n",
        "# For a 2-qubit system, the basis states are |00>, |01>, |10>, |11>\n",
        "print(f\"|00> component squared: {np.abs(state_vector[0])**2:.4f}\")\n",
        "print(f\"|01> component squared: {np.abs(state_vector[1])**2:.4f}\")\n",
        "print(f\"|10> component squared: {np.abs(state_vector[2])**2:.4f}\")\n",
        "print(f\"|11> component squared: {np.abs(state_vector[3])**2:.4f}\")"
      ],
      "metadata": {
        "id": "yMa4al84bxrw",
        "outputId": "5fce6e19-937c-43cc-9b74-d55ec23bb8ee",
        "colab": {
          "base_uri": "https://localhost:8080/"
        }
      },
      "execution_count": null,
      "outputs": [
        {
          "output_type": "stream",
          "name": "stdout",
          "text": [
            "\n",
            "--- Statevector Visualization ---\n",
            "Quantum State Vector:\n",
            "[0.70710678+0.j 0.        +0.j 0.        +0.j 0.70710678+0.j]\n",
            "\n",
            "Magnitude squared of each component (should match probabilities):\n",
            "|00> component squared: 0.5000\n",
            "|01> component squared: 0.0000\n",
            "|10> component squared: 0.0000\n",
            "|11> component squared: 0.5000\n"
          ]
        }
      ]
    },
    {
      "cell_type": "code",
      "source": [
        "print(\"\\n--- Measurement Samples ---\")\n",
        "samples = bell_state_circuit_samples()\n",
        "\n",
        "sample_counts = {\n",
        "    \"00\": 0,\n",
        "    \"01\": 0,\n",
        "    \"10\": 0,\n",
        "    \"11\": 0,\n",
        "}\n",
        "\n",
        "num_shots = 1000\n",
        "\n",
        "for sample_pair in samples:\n",
        "    state_key = \"\".join(str(bit) for bit in sample_pair)\n",
        "    if state_key in sample_counts:\n",
        "        sample_counts[state_key] += 1\n",
        "    else:\n",
        "        print(f\"Unexpected state observed: {state_key}\")\n",
        "\n",
        "print(f\"Measurement samples from {num_shots} shots:\")\n",
        "print(\"State | Counts | Observed Probability\")\n",
        "print(\"------|--------|---------------------\")\n",
        "for state, count in sample_counts.items():\n",
        "    observed_prob = count / num_shots\n",
        "    print(f\" {state}  | {count:<6} | {observed_prob:.4f}\")\n"
      ],
      "metadata": {
        "id": "mg0nlzqXcCKJ",
        "outputId": "5b974e6d-371a-4b55-9f58-895d4a2e0b75",
        "colab": {
          "base_uri": "https://localhost:8080/"
        }
      },
      "execution_count": null,
      "outputs": [
        {
          "output_type": "stream",
          "name": "stdout",
          "text": [
            "\n",
            "--- Measurement Samples ---\n",
            "Measurement samples from 1000 shots:\n",
            "State | Counts | Observed Probability\n",
            "------|--------|---------------------\n",
            " 00  | 476    | 0.4760\n",
            " 01  | 0      | 0.0000\n",
            " 10  | 0      | 0.0000\n",
            " 11  | 524    | 0.5240\n"
          ]
        }
      ]
    },
    {
      "cell_type": "code",
      "source": [
        "fig, ax = qml.draw_mpl(bell_state_circuit_probs, decimals=2, style='pennylane')()\n",
        "plt.show()"
      ],
      "metadata": {
        "id": "z-_YdfZ8eHEC",
        "outputId": "fc4ba2b6-303e-43a5-cd99-7ef4970c5de1",
        "colab": {
          "base_uri": "https://localhost:8080/",
          "height": 337
        }
      },
      "execution_count": null,
      "outputs": [
        {
          "output_type": "display_data",
          "data": {
            "text/plain": [
              "<Figure size 500x300 with 1 Axes>"
            ],
            "image/png": "[encoded data removed]"
          },
          "metadata": {}
        }
      ]
    },
    {
      "cell_type": "markdown",
      "source": [
        "# Task 2: Build a GHZ State for 3 Qubits\n",
        "Construct a circuit that prepares a 3-qubit GHZ state:\n",
        "\n",
        "Use Hadamard and CNOT gates\n",
        "\n",
        "Measure using qml.probs(wires=[0, 1, 2])\n",
        "\n",
        "Optional: extend to 4 qubits"
      ],
      "metadata": {
        "id": "oRPev3qux95s"
      }
    },
    {
      "cell_type": "code",
      "source": [
        "dev_3_qubits = qml.device(\"default.qubit\", wires=3)"
      ],
      "metadata": {
        "id": "bg0liLuDJJ24"
      },
      "execution_count": 5,
      "outputs": []
    },
    {
      "cell_type": "code",
      "source": [
        "print(\"--- 3-Qubit GHZ State ---\")\n",
        "@qml.qnode(dev_3_qubits)\n",
        "def ghz_3_qubits_circuit():\n",
        "    \"\"\"\n",
        "    Prepares a 3-qubit GHZ state using Hadamard and CNOT gates.\n",
        "    The GHZ state is (1/sqrt(2)) * (|000> + |111>).\n",
        "    \"\"\"\n",
        "    qml.Hadamard(wires=0)\n",
        "    qml.CNOT(wires=[0, 1])\n",
        "    qml.CNOT(wires=[0, 2])\n",
        "\n",
        "    return qml.probs(wires=[0, 1, 2])\n",
        "\n",
        "probabilities_3_qubits = ghz_3_qubits_circuit()\n",
        "\n",
        "print(\"\\nProbabilities for 3-qubit GHZ state:\")\n",
        "for i, prob in enumerate(probabilities_3_qubits):\n",
        "    binary_state = format(i, '03b')\n",
        "    print(f\"  State |{binary_state}>: {prob:.4f}\")\n"
      ],
      "metadata": {
        "colab": {
          "base_uri": "https://localhost:8080/"
        },
        "id": "3AIofwGyJAaS",
        "outputId": "5adbf65a-b67c-4a43-a551-3bec92d632ac"
      },
      "execution_count": 6,
      "outputs": [
        {
          "output_type": "stream",
          "name": "stdout",
          "text": [
            "--- 3-Qubit GHZ State ---\n",
            "\n",
            "Probabilities for 3-qubit GHZ state:\n",
            "  State |000>: 0.5000\n",
            "  State |001>: 0.0000\n",
            "  State |010>: 0.0000\n",
            "  State |011>: 0.0000\n",
            "  State |100>: 0.0000\n",
            "  State |101>: 0.0000\n",
            "  State |110>: 0.0000\n",
            "  State |111>: 0.5000\n"
          ]
        }
      ]
    },
    {
      "cell_type": "code",
      "source": [
        "fig_3, ax_3 = qml.draw_mpl(ghz_3_qubits_circuit, decimals=2, style='pennylane')()\n",
        "plt.show()"
      ],
      "metadata": {
        "colab": {
          "base_uri": "https://localhost:8080/",
          "height": 436
        },
        "id": "ZmuqUltRNEHU",
        "outputId": "5d8a71f3-2e89-4652-b0d7-0623003b4cf3"
      },
      "execution_count": 14,
      "outputs": [
        {
          "output_type": "display_data",
          "data": {
            "text/plain": [
              "<Figure size 600x400 with 1 Axes>"
            ],
            "image/png": "[encoded data removed]"
          },
          "metadata": {}
        }
      ]
    },
    {
      "cell_type": "code",
      "source": [
        "dev_4_qubits = qml.device(\"default.qubit\", wires=4)"
      ],
      "metadata": {
        "id": "oN1OFlpMJRB_"
      },
      "execution_count": 15,
      "outputs": []
    },
    {
      "cell_type": "code",
      "source": [
        "print(\"\\n--- 4-Qubit GHZ State ---\")\n",
        "@qml.qnode(dev_4_qubits)\n",
        "def ghz_4_qubits_circuit():\n",
        "    \"\"\"\n",
        "    Prepares a 4-qubit GHZ state using Hadamard and CNOT gates.\n",
        "    The GHZ state is (1/sqrt(2)) * (|0000> + |1111>).\n",
        "    \"\"\"\n",
        "    qml.Hadamard(wires=0)\n",
        "    qml.CNOT(wires=[0, 1])\n",
        "    qml.CNOT(wires=[0, 2])\n",
        "    qml.CNOT(wires=[0, 3])\n",
        "    return qml.probs(wires=[0, 1, 2, 3])\n",
        "\n",
        "probabilities_4_qubits = ghz_4_qubits_circuit()\n",
        "\n",
        "print(\"\\nProbabilities for 4-qubit GHZ state:\")\n",
        "for i, prob in enumerate(probabilities_4_qubits):\n",
        "    binary_state = format(i, '04b')\n",
        "    print(f\"  State |{binary_state}>: {prob:.4f}\")\n"
      ],
      "metadata": {
        "id": "qDvLzhymyBOk",
        "colab": {
          "base_uri": "https://localhost:8080/"
        },
        "outputId": "cfb39090-ba27-4779-b043-9f77af65f1ea"
      },
      "execution_count": 16,
      "outputs": [
        {
          "output_type": "stream",
          "name": "stdout",
          "text": [
            "\n",
            "--- 4-Qubit GHZ State ---\n",
            "\n",
            "Probabilities for 4-qubit GHZ state:\n",
            "  State |0000>: 0.5000\n",
            "  State |0001>: 0.0000\n",
            "  State |0010>: 0.0000\n",
            "  State |0011>: 0.0000\n",
            "  State |0100>: 0.0000\n",
            "  State |0101>: 0.0000\n",
            "  State |0110>: 0.0000\n",
            "  State |0111>: 0.0000\n",
            "  State |1000>: 0.0000\n",
            "  State |1001>: 0.0000\n",
            "  State |1010>: 0.0000\n",
            "  State |1011>: 0.0000\n",
            "  State |1100>: 0.0000\n",
            "  State |1101>: 0.0000\n",
            "  State |1110>: 0.0000\n",
            "  State |1111>: 0.5000\n"
          ]
        }
      ]
    },
    {
      "cell_type": "code",
      "source": [
        "fig_4, ax_4 = qml.draw_mpl(ghz_4_qubits_circuit, decimals=2, style='pennylane')()\n",
        "plt.show()"
      ],
      "metadata": {
        "colab": {
          "base_uri": "https://localhost:8080/",
          "height": 536
        },
        "id": "zgAniHedM_pv",
        "outputId": "1efba6a7-7e8e-4771-ebcf-bfe682d975c2"
      },
      "execution_count": 18,
      "outputs": [
        {
          "output_type": "display_data",
          "data": {
            "text/plain": [
              "<Figure size 700x500 with 1 Axes>"
            ],
            "image/png": "[encoded data removed]"
          },
          "metadata": {}
        }
      ]
    },
    {
      "cell_type": "markdown",
      "source": [
        "# Task 3: Rotation + Measurement Circuit\n",
        "Design a single-qubit rotation circuit using RX, RY, or RZ gates.\n",
        "\n",
        "Make the rotation angle a variable input\n",
        "\n",
        "Return the expectation value of PauliZ\n",
        "\n",
        "Plot how the output changes as you vary the input angle\n",
        "\n"
      ],
      "metadata": {
        "id": "Khx7R9FlyBpZ"
      }
    },
    {
      "cell_type": "markdown",
      "source": [
        "## Task 4: Simple Variational Optimization\n",
        "Create a cost function that depends on a gate parameter, and optimize it using PennyLane’s gradient descent optimizer.\n",
        "\n",
        "Use a rotation gate like RX, and minimize expval(PauliZ)\n",
        "\n",
        "Log or print cost at each step\n",
        "\n",
        "Output the optimal parameter found\n",
        "\n",
        "plot the cost function curve"
      ],
      "metadata": {
        "id": "Gu2Rc1JKyOC1"
      }
    },
    {
      "cell_type": "code",
      "source": [],
      "metadata": {
        "id": "35mGDuZAyfCG"
      },
      "execution_count": null,
      "outputs": []
    },
    {
      "cell_type": "markdown",
      "source": [
        "# Task 5: Measurement Comparison\n",
        "Build a 1- or 2-qubit circuit and compare results from:\n",
        "\n",
        "qml.probs()\n",
        "\n",
        "qml.sample()\n",
        "\n",
        "qml.expval()\n",
        "\n",
        "Explain how they differ in output and when you'd use each.\n",
        "\n",
        "Discuss why probs() is deterministic but sample() is random."
      ],
      "metadata": {
        "id": "SExpNhpZyfht"
      }
    },
    {
      "cell_type": "code",
      "source": [],
      "metadata": {
        "id": "e6U70D06zANV"
      },
      "execution_count": null,
      "outputs": []
    }
  ]
}