{
  "nbformat": 4,
  "nbformat_minor": 0,
  "metadata": {
    "colab": {
      "provenance": [],
      "include_colab_link": true
    },
    "kernelspec": {
      "name": "python3",
      "display_name": "Python 3"
    },
    "language_info": {
      "name": "python"
    }
  },
  "cells": [
    {
      "cell_type": "markdown",
      "metadata": {
        "id": "view-in-github",
        "colab_type": "text"
      },
      "source": [
        "<a href=\"https://colab.research.google.com/github/hewansirak/iCog-Trainings/blob/main/PennyLane_Task.ipynb\" target=\"_parent\"><img src=\"https://colab.research.google.com/assets/colab-badge.svg\" alt=\"Open In Colab\"/></a>"
      ]
    },
    {
      "cell_type": "markdown",
      "source": [
        "# Task 1: Create a Bell State Circuit\n",
        "Build a quantum circuit that generates the Bell state\n",
        "\n",
        "\n",
        "\n",
        "Use 2 qubits\n",
        "\n",
        "Use qml.probs() to display the probability distribution\n",
        "\n",
        "Bonus: visualize the statevector or show measurement samples"
      ],
      "metadata": {
        "id": "_-CbhXLSxnf2"
      }
    },
    {
      "cell_type": "code",
      "source": [],
      "metadata": {
        "id": "XbwIEAjEx9bc"
      },
      "execution_count": null,
      "outputs": []
    },
    {
      "cell_type": "markdown",
      "source": [
        "# Task 2: Build a GHZ State for 3 Qubits\n",
        "Construct a circuit that prepares a 3-qubit GHZ state:\n",
        "\n",
        "Use Hadamard and CNOT gates\n",
        "\n",
        "Measure using qml.probs(wires=[0, 1, 2])\n",
        "\n",
        "Optional: extend to 4 qubits"
      ],
      "metadata": {
        "id": "oRPev3qux95s"
      }
    },
    {
      "cell_type": "code",
      "source": [],
      "metadata": {
        "id": "qDvLzhymyBOk"
      },
      "execution_count": null,
      "outputs": []
    },
    {
      "cell_type": "markdown",
      "source": [
        "# Task 3: Rotation + Measurement Circuit\n",
        "Design a single-qubit rotation circuit using RX, RY, or RZ gates.\n",
        "\n",
        "Make the rotation angle a variable input\n",
        "\n",
        "Return the expectation value of PauliZ\n",
        "\n",
        "Plot how the output changes as you vary the input angle\n",
        "\n"
      ],
      "metadata": {
        "id": "Khx7R9FlyBpZ"
      }
    },
    {
      "cell_type": "code",
      "source": [],
      "metadata": {
        "id": "77d0DxuiyLz9"
      },
      "execution_count": null,
      "outputs": []
    },
    {
      "cell_type": "markdown",
      "source": [
        "## Task 4: Simple Variational Optimization\n",
        "Create a cost function that depends on a gate parameter, and optimize it using PennyLane’s gradient descent optimizer.\n",
        "\n",
        "Use a rotation gate like RX, and minimize expval(PauliZ)\n",
        "\n",
        "Log or print cost at each step\n",
        "\n",
        "Output the optimal parameter found\n",
        "\n",
        "plot the cost function curve"
      ],
      "metadata": {
        "id": "Gu2Rc1JKyOC1"
      }
    },
    {
      "cell_type": "code",
      "source": [],
      "metadata": {
        "id": "35mGDuZAyfCG"
      },
      "execution_count": null,
      "outputs": []
    },
    {
      "cell_type": "markdown",
      "source": [
        "# Task 5: Measurement Comparison\n",
        "Build a 1- or 2-qubit circuit and compare results from:\n",
        "\n",
        "qml.probs()\n",
        "\n",
        "qml.sample()\n",
        "\n",
        "qml.expval()\n",
        "\n",
        "Explain how they differ in output and when you'd use each.\n",
        "\n",
        "Discuss why probs() is deterministic but sample() is random."
      ],
      "metadata": {
        "id": "SExpNhpZyfht"
      }
    },
    {
      "cell_type": "code",
      "source": [],
      "metadata": {
        "id": "e6U70D06zANV"
      },
      "execution_count": null,
      "outputs": []
    }
  ]
}