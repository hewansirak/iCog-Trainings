{
  "nbformat": 4,
  "nbformat_minor": 0,
  "metadata": {
    "colab": {
      "provenance": [],
      "include_colab_link": true
    },
    "kernelspec": {
      "name": "python3",
      "display_name": "Python 3"
    },
    "language_info": {
      "name": "python"
    }
  },
  "cells": [
    {
      "cell_type": "markdown",
      "metadata": {
        "id": "view-in-github",
        "colab_type": "text"
      },
      "source": [
        "<a href=\"https://colab.research.google.com/github/hewansirak/iCog-Trainings/blob/main/IntroToPennyLane_June_2025.ipynb\" target=\"_parent\"><img src=\"https://colab.research.google.com/assets/colab-badge.svg\" alt=\"Open In Colab\"/></a>"
      ]
    },
    {
      "cell_type": "code",
      "source": [],
      "metadata": {
        "id": "hpG464f3r1jR"
      },
      "execution_count": null,
      "outputs": []
    },
    {
      "cell_type": "markdown",
      "source": [
        "#Introduction to Quantum Computing with PennyLane\n",
        "\n",
        "How to get started with ***using*** PennyLane: learning to walk before you run (to [PennyLane.ai](https://pennylane.ai/))\n",
        "\n",
        "*   Install & import PennyLane\n",
        "*   Task: create a Bell state using a circuit on a qnode (see image below), create a quantum device and return the probabilities of the states\n",
        "*   Run the circuit\n",
        "*   Play around with backends\n"
      ],
      "metadata": {
        "id": "JlblEPw2O2Cd"
      }
    },
    {
      "cell_type": "markdown",
      "source": [
        "![circuitimage.png](data:image/png;base64,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)"
      ],
      "metadata": {
        "id": "rZfT8Q4JT2-j"
      }
    },
    {
      "cell_type": "code",
      "source": [
        "!pip install pennylane #Installing PennyLane #Check out: https://pennylane.ai/install for more options"
      ],
      "metadata": {
        "colab": {
          "base_uri": "https://localhost:8080/"
        },
        "collapsed": true,
        "id": "0oYiWUInZmoC",
        "outputId": "62bf8d92-4ec2-4165-df53-78688501e781"
      },
      "execution_count": 1,
      "outputs": [
        {
          "output_type": "stream",
          "name": "stdout",
          "text": [
            "Collecting pennylane\n",
            "  Downloading PennyLane-0.41.1-py3-none-any.whl.metadata (10 kB)\n",
            "Requirement already satisfied: numpy in /usr/local/lib/python3.11/dist-packages (from pennylane) (2.0.2)\n",
            "Requirement already satisfied: scipy in /usr/local/lib/python3.11/dist-packages (from pennylane) (1.15.3)\n",
            "Requirement already satisfied: networkx in /usr/local/lib/python3.11/dist-packages (from pennylane) (3.5)\n",
            "Collecting rustworkx>=0.14.0 (from pennylane)\n",
            "  Downloading rustworkx-0.16.0-cp39-abi3-manylinux_2_17_x86_64.manylinux2014_x86_64.whl.metadata (10 kB)\n",
            "Requirement already satisfied: autograd in /usr/local/lib/python3.11/dist-packages (from pennylane) (1.8.0)\n",
            "Requirement already satisfied: tomlkit in /usr/local/lib/python3.11/dist-packages (from pennylane) (0.13.3)\n",
            "Collecting appdirs (from pennylane)\n",
            "  Downloading appdirs-1.4.4-py2.py3-none-any.whl.metadata (9.0 kB)\n",
            "Collecting autoray>=0.6.11 (from pennylane)\n",
            "  Downloading autoray-0.7.1-py3-none-any.whl.metadata (5.8 kB)\n",
            "Requirement already satisfied: cachetools in /usr/local/lib/python3.11/dist-packages (from pennylane) (5.5.2)\n",
            "Collecting pennylane-lightning>=0.41 (from pennylane)\n",
            "  Downloading pennylane_lightning-0.41.1-cp311-cp311-manylinux_2_28_x86_64.whl.metadata (12 kB)\n",
            "Requirement already satisfied: requests in /usr/local/lib/python3.11/dist-packages (from pennylane) (2.32.3)\n",
            "Requirement already satisfied: typing-extensions in /usr/local/lib/python3.11/dist-packages (from pennylane) (4.14.0)\n",
            "Requirement already satisfied: packaging in /usr/local/lib/python3.11/dist-packages (from pennylane) (24.2)\n",
            "Collecting diastatic-malt (from pennylane)\n",
            "  Downloading diastatic_malt-2.15.2-py3-none-any.whl.metadata (2.6 kB)\n",
            "Collecting scipy-openblas32>=0.3.26 (from pennylane-lightning>=0.41->pennylane)\n",
            "  Downloading scipy_openblas32-0.3.29.265.1-py3-none-manylinux2014_x86_64.manylinux_2_17_x86_64.whl.metadata (56 kB)\n",
            "\u001b[2K     \u001b[90m━━━━━━━━━━━━━━━━━━━━━━━━━━━━━━━━━━━━━━━━\u001b[0m \u001b[32m56.1/56.1 kB\u001b[0m \u001b[31m1.1 MB/s\u001b[0m eta \u001b[36m0:00:00\u001b[0m\n",
            "\u001b[?25hRequirement already satisfied: astunparse in /usr/local/lib/python3.11/dist-packages (from diastatic-malt->pennylane) (1.6.3)\n",
            "Requirement already satisfied: gast in /usr/local/lib/python3.11/dist-packages (from diastatic-malt->pennylane) (0.6.0)\n",
            "Requirement already satisfied: termcolor in /usr/local/lib/python3.11/dist-packages (from diastatic-malt->pennylane) (3.1.0)\n",
            "Requirement already satisfied: charset-normalizer<4,>=2 in /usr/local/lib/python3.11/dist-packages (from requests->pennylane) (3.4.2)\n",
            "Requirement already satisfied: idna<4,>=2.5 in /usr/local/lib/python3.11/dist-packages (from requests->pennylane) (3.10)\n",
            "Requirement already satisfied: urllib3<3,>=1.21.1 in /usr/local/lib/python3.11/dist-packages (from requests->pennylane) (2.4.0)\n",
            "Requirement already satisfied: certifi>=2017.4.17 in /usr/local/lib/python3.11/dist-packages (from requests->pennylane) (2025.6.15)\n",
            "Requirement already satisfied: wheel<1.0,>=0.23.0 in /usr/local/lib/python3.11/dist-packages (from astunparse->diastatic-malt->pennylane) (0.45.1)\n",
            "Requirement already satisfied: six<2.0,>=1.6.1 in /usr/local/lib/python3.11/dist-packages (from astunparse->diastatic-malt->pennylane) (1.17.0)\n",
            "Downloading PennyLane-0.41.1-py3-none-any.whl (2.3 MB)\n",
            "\u001b[2K   \u001b[90m━━━━━━━━━━━━━━━━━━━━━━━━━━━━━━━━━━━━━━━━\u001b[0m \u001b[32m2.3/2.3 MB\u001b[0m \u001b[31m20.6 MB/s\u001b[0m eta \u001b[36m0:00:00\u001b[0m\n",
            "\u001b[?25hDownloading autoray-0.7.1-py3-none-any.whl (930 kB)\n",
            "\u001b[2K   \u001b[90m━━━━━━━━━━━━━━━━━━━━━━━━━━━━━━━━━━━━━━━━\u001b[0m \u001b[32m930.8/930.8 kB\u001b[0m \u001b[31m14.7 MB/s\u001b[0m eta \u001b[36m0:00:00\u001b[0m\n",
            "\u001b[?25hDownloading pennylane_lightning-0.41.1-cp311-cp311-manylinux_2_28_x86_64.whl (2.5 MB)\n",
            "\u001b[2K   \u001b[90m━━━━━━━━━━━━━━━━━━━━━━━━━━━━━━━━━━━━━━━━\u001b[0m \u001b[32m2.5/2.5 MB\u001b[0m \u001b[31m24.5 MB/s\u001b[0m eta \u001b[36m0:00:00\u001b[0m\n",
            "\u001b[?25hDownloading rustworkx-0.16.0-cp39-abi3-manylinux_2_17_x86_64.manylinux2014_x86_64.whl (2.1 MB)\n",
            "\u001b[2K   \u001b[90m━━━━━━━━━━━━━━━━━━━━━━━━━━━━━━━━━━━━━━━━\u001b[0m \u001b[32m2.1/2.1 MB\u001b[0m \u001b[31m15.1 MB/s\u001b[0m eta \u001b[36m0:00:00\u001b[0m\n",
            "\u001b[?25hDownloading appdirs-1.4.4-py2.py3-none-any.whl (9.6 kB)\n",
            "Downloading diastatic_malt-2.15.2-py3-none-any.whl (167 kB)\n",
            "\u001b[2K   \u001b[90m━━━━━━━━━━━━━━━━━━━━━━━━━━━━━━━━━━━━━━━━\u001b[0m \u001b[32m167.9/167.9 kB\u001b[0m \u001b[31m7.1 MB/s\u001b[0m eta \u001b[36m0:00:00\u001b[0m\n",
            "\u001b[?25hDownloading scipy_openblas32-0.3.29.265.1-py3-none-manylinux2014_x86_64.manylinux_2_17_x86_64.whl (8.6 MB)\n",
            "\u001b[2K   \u001b[90m━━━━━━━━━━━━━━━━━━━━━━━━━━━━━━━━━━━━━━━━\u001b[0m \u001b[32m8.6/8.6 MB\u001b[0m \u001b[31m34.4 MB/s\u001b[0m eta \u001b[36m0:00:00\u001b[0m\n",
            "\u001b[?25hInstalling collected packages: appdirs, scipy-openblas32, rustworkx, autoray, diastatic-malt, pennylane-lightning, pennylane\n",
            "Successfully installed appdirs-1.4.4 autoray-0.7.1 diastatic-malt-2.15.2 pennylane-0.41.1 pennylane-lightning-0.41.1 rustworkx-0.16.0 scipy-openblas32-0.3.29.265.1\n"
          ]
        }
      ]
    },
    {
      "cell_type": "code",
      "source": [
        "import pennylane as qml #Using Python and importing PennyLane"
      ],
      "metadata": {
        "colab": {
          "base_uri": "https://localhost:8080/"
        },
        "collapsed": true,
        "id": "o7Uz3r8YxUxH",
        "outputId": "70d8dedc-3d17-49cb-b841-02863dfe75bc"
      },
      "execution_count": null,
      "outputs": [
        {
          "output_type": "stream",
          "name": "stderr",
          "text": [
            "/usr/local/lib/python3.11/dist-packages/pennylane/capture/capture_operators.py:33: RuntimeWarning: PennyLane is not yet compatible with JAX versions > 0.4.28. You have version 0.5.2 installed. Please downgrade JAX to <=0.4.28 to avoid runtime errors.\n",
            "  warnings.warn(\n"
          ]
        }
      ]
    },
    {
      "cell_type": "code",
      "source": [
        "qml.about() #Check installation and import"
      ],
      "metadata": {
        "colab": {
          "base_uri": "https://localhost:8080/"
        },
        "collapsed": true,
        "id": "9WIjZaqfx0m5",
        "outputId": "c947664f-005c-47d1-edcb-e2bd0bd331aa"
      },
      "execution_count": null,
      "outputs": [
        {
          "output_type": "stream",
          "name": "stdout",
          "text": [
            "Name: PennyLane\n",
            "Version: 0.41.1\n",
            "Summary: PennyLane is a cross-platform Python library for quantum computing, quantum machine learning, and quantum chemistry. Train a quantum computer the same way as a neural network.\n",
            "Home-page: https://github.com/PennyLaneAI/pennylane\n",
            "Author: \n",
            "Author-email: \n",
            "License: Apache License 2.0\n",
            "Location: /usr/local/lib/python3.11/dist-packages\n",
            "Requires: appdirs, autograd, autoray, cachetools, diastatic-malt, networkx, numpy, packaging, pennylane-lightning, requests, rustworkx, scipy, tomlkit, typing-extensions\n",
            "Required-by: PennyLane_Lightning\n",
            "\n",
            "Platform info:           Linux-6.1.123+-x86_64-with-glibc2.35\n",
            "Python version:          3.11.13\n",
            "Numpy version:           2.0.2\n",
            "Scipy version:           1.15.3\n",
            "Installed devices:\n",
            "- lightning.qubit (PennyLane_Lightning-0.41.1)\n",
            "- default.clifford (PennyLane-0.41.1)\n",
            "- default.gaussian (PennyLane-0.41.1)\n",
            "- default.mixed (PennyLane-0.41.1)\n",
            "- default.qubit (PennyLane-0.41.1)\n",
            "- default.qutrit (PennyLane-0.41.1)\n",
            "- default.qutrit.mixed (PennyLane-0.41.1)\n",
            "- default.tensor (PennyLane-0.41.1)\n",
            "- null.qubit (PennyLane-0.41.1)\n",
            "- reference.qubit (PennyLane-0.41.1)\n"
          ]
        }
      ]
    },
    {
      "cell_type": "code",
      "source": [
        "#Checklist: installed, imported, checked installation/import\n",
        "#Define a backend\n",
        "dev = qml.device('default.qubit',wires=2) #Creates a device using default.qubit as a backend with 2 wires (qubits)"
      ],
      "metadata": {
        "id": "a3-xSCpmx_x7"
      },
      "execution_count": null,
      "outputs": []
    },
    {
      "cell_type": "code",
      "source": [
        "#Define a qnode with a circuit that creates the Bell state\n",
        "@qml.qnode(dev) #This tells the circuit which device to run on (this line must be placed right above the circuit)\n",
        "def circuit(): #Creating a Bell state with the circuit\n",
        "  qml.Hadamard(wires=[0])\n",
        "  qml.CNOT(wires=[0,1])\n",
        "  return qml.probs()\n"
      ],
      "metadata": {
        "id": "q4wWLSevybqL"
      },
      "execution_count": null,
      "outputs": []
    },
    {
      "cell_type": "code",
      "source": [
        "qml.draw_mpl(circuit,style='pennylane')(); #Drawing the circuit above to check our programmed instructions - do the number of qubits and gate operations match as expected?\n",
        "#Note the empty parenthesis indicates that the circuit takes no parameters.\n",
        "#In case the circuit takes parameters they can be added within these parenthesis\n",
        "#The semicolon at the end just suppresses plotting information (optional)"
      ],
      "metadata": {
        "colab": {
          "base_uri": "https://localhost:8080/",
          "height": 337
        },
        "collapsed": true,
        "id": "65LUxJzazHHY",
        "outputId": "d420a498-eb30-463e-c1d0-29fc6665b309"
      },
      "execution_count": null,
      "outputs": [
        {
          "output_type": "display_data",
          "data": {
            "text/plain": [
              "<Figure size 500x300 with 1 Axes>"
            ],
            "image/png": "[encoded data removed]"
          },
          "metadata": {}
        }
      ]
    },
    {
      "cell_type": "code",
      "source": [
        "#%%timeit #This is a timing decorator for the execution of this circuit. You can compare this if you want to explore other backends or more advanced features like quantum compilation, e.g. https://pennylane.ai/compilation\n",
        "circuit() #Executing the circuit, which returns us the probability of the Bell state\n",
        "#50% probability of observing state 00, 0% of 01, 10, 50% 11"
      ],
      "metadata": {
        "colab": {
          "base_uri": "https://localhost:8080/"
        },
        "id": "zvkC58-IzOtT",
        "outputId": "88fd3dff-0611-47b3-c2bb-744186e3dd0b"
      },
      "execution_count": null,
      "outputs": [
        {
          "output_type": "execute_result",
          "data": {
            "text/plain": [
              "array([0.512, 0.   , 0.   , 0.488])"
            ]
          },
          "metadata": {},
          "execution_count": 17
        }
      ]
    },
    {
      "cell_type": "code",
      "source": [
        "dev = qml.device('lightning.qubit',wires=2) #We're only changing the backend from default.qubit previously, to lightning.qubit now. All else is the same.\n",
        "@qml.qnode(dev)\n",
        "def circuit(): #Creating a Bell state with the circuit\n",
        "  qml.Hadamard(wires=[0])\n",
        "  qml.CNOT(wires=[0,1])\n",
        "  return qml.probs()"
      ],
      "metadata": {
        "id": "PNttRcK3zfVY"
      },
      "execution_count": null,
      "outputs": []
    },
    {
      "cell_type": "code",
      "source": [
        "#%%timeit\n",
        "circuit() #Notice that this gives the same result regardless of backend (unless we specify shots)"
      ],
      "metadata": {
        "colab": {
          "base_uri": "https://localhost:8080/"
        },
        "id": "6TeSO3850GVK",
        "outputId": "7d20ef7b-29bd-4e27-d3c9-a0a596bf5163"
      },
      "execution_count": null,
      "outputs": [
        {
          "output_type": "execute_result",
          "data": {
            "text/plain": [
              "array([0.5, 0. , 0. , 0.5])"
            ]
          },
          "metadata": {},
          "execution_count": 9
        }
      ]
    },
    {
      "cell_type": "code",
      "source": [
        "dev = qml.device('lightning.qubit',wires=2, shots=1000) #Now, we're introducing \"shots\", which gives us numerical results (like an experiment) versus analytical ones (like pen & paper)\n",
        "@qml.qnode(dev)\n",
        "def circuit(): #Creating a Bell state with the circuit\n",
        "  qml.Hadamard(wires=[0])\n",
        "  qml.CNOT(wires=[0,1])\n",
        "  return qml.probs()"
      ],
      "metadata": {
        "id": "TcgJkmyb0JT2"
      },
      "execution_count": null,
      "outputs": []
    },
    {
      "cell_type": "code",
      "source": [
        "circuit() #Note the probabilities change every call (random number seed-dependent), as well as to the number of shots used (to converge upon probabilities)"
      ],
      "metadata": {
        "colab": {
          "base_uri": "https://localhost:8080/"
        },
        "id": "f6dFw30u1DKu",
        "outputId": "e9b83028-8ee2-4669-d74e-c9b1edf1f2fc"
      },
      "execution_count": null,
      "outputs": [
        {
          "output_type": "execute_result",
          "data": {
            "text/plain": [
              "array([0.489, 0.   , 0.   , 0.511])"
            ]
          },
          "metadata": {},
          "execution_count": 11
        }
      ]
    },
    {
      "cell_type": "code",
      "source": [
        "#A more complicated example, prepared to show you how to use a subroutine, or sub-circuit to make programming more efficient\n",
        "#Templates are similar, but the subroutines are already written for you (https://docs.pennylane.ai/en/stable/introduction/templates.html)\n",
        "\n",
        "#The sub-circuit (not yet tied to a qnode)\n",
        "def subcircuit(x):\n",
        "  qml.RX(x,wires=0)\n",
        "\n",
        "@qml.qnode(dev)\n",
        "def circuit(params):\n",
        "  for i in range(2):\n",
        "    subcircuit(i*params[0]) #Using the sub-circuit\n",
        "  qml.RY(params[1], wires=1) #Taking in parameters from the circuit\n",
        "  return qml.probs()\n",
        "\n",
        "qml.draw_mpl(circuit, decimals=1, style='pennylane')([0.3, 1.1]);"
      ],
      "metadata": {
        "colab": {
          "base_uri": "https://localhost:8080/",
          "height": 337
        },
        "id": "sSdesWn41EH4",
        "outputId": "33328a4e-cb2f-4b51-cd17-532c9356331c"
      },
      "execution_count": null,
      "outputs": [
        {
          "output_type": "display_data",
          "data": {
            "text/plain": [
              "<Figure size 500x300 with 1 Axes>"
            ],
            "image/png": "[encoded data removed]"
          },
          "metadata": {}
        }
      ]
    },
    {
      "cell_type": "code",
      "source": [
        "circuit([0.3,1.1])"
      ],
      "metadata": {
        "colab": {
          "base_uri": "https://localhost:8080/"
        },
        "id": "CqsGvdtM1e0I",
        "outputId": "1ac71073-d351-42f7-8761-debe58b1c3ab"
      },
      "execution_count": null,
      "outputs": [
        {
          "output_type": "execute_result",
          "data": {
            "text/plain": [
              "array([0.692, 0.278, 0.024, 0.006])"
            ]
          },
          "metadata": {},
          "execution_count": 15
        }
      ]
    }
  ]
}